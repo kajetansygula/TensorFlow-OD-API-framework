{
 "cells": [
  {
   "cell_type": "markdown",
   "id": "c6c89a96",
   "metadata": {},
   "source": [
    "#### Imports"
   ]
  },
  {
   "cell_type": "code",
   "execution_count": 3,
   "id": "8e7cd637",
   "metadata": {},
   "outputs": [],
   "source": [
    "import os\n",
    "import wget\n",
    "import glob\n",
    "import random\n",
    "import shutil\n",
    "\n",
    "from sklearn.model_selection import train_test_split\n"
   ]
  },
  {
   "cell_type": "markdown",
   "id": "c8dce07f",
   "metadata": {},
   "source": [
    "#### Download TensorFlow Model Garden"
   ]
  },
  {
   "cell_type": "code",
   "execution_count": null,
   "id": "2b091a9a",
   "metadata": {},
   "outputs": [],
   "source": [
    "# Create a path to store master model\n",
    "MODELS_MASTER_PATH = os.path.join('Tensorflow', 'models-master')\n",
    "\n",
    "# Create directory\n",
    "!mkdir {MODELS_MASTER_PATH}"
   ]
  },
  {
   "cell_type": "code",
   "execution_count": null,
   "id": "6481066b",
   "metadata": {},
   "outputs": [],
   "source": [
    "# Clone TensorFlow Model Garden\n",
    "!git clone https://github.com/tensorflow/models {models_master_path}"
   ]
  },
  {
   "cell_type": "markdown",
   "id": "97ee6ec9",
   "metadata": {},
   "source": [
    "#### Protobuf Installation"
   ]
  },
  {
   "cell_type": "code",
   "execution_count": null,
   "id": "2ff01a32",
   "metadata": {},
   "outputs": [],
   "source": [
    "# Create directory\n",
    "PATH_TO_PB = os.path.join('Tensorflow','protoc')\n",
    "!mkdir {PATH_TO_PB}\n",
    "\n",
    "# Download protoc\n",
    "url=\"https://github.com/protocolbuffers/protobuf/releases/download/v3.15.6/protoc-3.15.6-win64.zip\"\n",
    "wget.download(url)\n",
    "\n",
    "# Install protoc\n",
    "!move protoc-3.15.6-win64.zip {PATH_TO_PB}\n",
    "!cd {PATH_TO_PB} && tar -xf protoc-3.15.6-win64.zip\n",
    "\n",
    "# Set up an environment variable \n",
    "# os.environ['PATH'] += os.pathsep + os.path.abspath(os.path.join(paths['PROTOC_PATH'], 'bin'))\n",
    "\n",
    "!cd Tensorflow/models-master/research && protoc object_detection/protos/*.proto --python_out=."
   ]
  },
  {
   "cell_type": "markdown",
   "id": "5d4b5652",
   "metadata": {},
   "source": [
    "#### Object Detection API installation"
   ]
  },
  {
   "cell_type": "code",
   "execution_count": null,
   "id": "237a0b76",
   "metadata": {
    "scrolled": true
   },
   "outputs": [],
   "source": [
    "# Install TF Object Detection API\n",
    "!cd Tensorflow/models-master/research && \n",
    "copy object_detection\\\\packages\\\\tf2\\\\setup.py setup.py && \n",
    "python setup.py build && python setup.py install"
   ]
  },
  {
   "cell_type": "code",
   "execution_count": null,
   "id": "83828d1a",
   "metadata": {},
   "outputs": [],
   "source": [
    "# Verify installation\n",
    "!cd Tensorflow/models-master/research && python object_detection/builders/model_builder_tf2_test.py"
   ]
  },
  {
   "cell_type": "markdown",
   "id": "6c7fc29e",
   "metadata": {},
   "source": [
    "#### Workspace settings"
   ]
  },
  {
   "cell_type": "code",
   "execution_count": 80,
   "id": "c0231303",
   "metadata": {},
   "outputs": [],
   "source": [
    "# Create workplace and training directory\n",
    "training_dataset_name = 'training_demo'\n",
    "TRAINING_DEMO_PATH = os.path.join('Tensorflow', 'workspace', training_dataset_name)\n",
    "!mkdir {TRAINING_DEMO_PATH}\n",
    "\n",
    "# Create recommended directory structure within training folder)\n",
    "directories = ['annotations', 'exported-models', 'images', 'models', 'pre-trained-models']\n",
    "for folder in directories:\n",
    "    os.mkdir(os.path.join(TRAINING_DEMO_PATH,folder))"
   ]
  },
  {
   "cell_type": "code",
   "execution_count": 82,
   "id": "696f3ba6",
   "metadata": {},
   "outputs": [],
   "source": [
    "# Create train and test folders within images directory\n",
    "TRAIN_SET_PATH = os.path.join('Tensorflow', 'workspace', training_dataset_name, 'images', 'train')\n",
    "TEST_SET_PATH = os.path.join('Tensorflow', 'workspace', training_dataset_name, 'images', 'test')\n",
    "\n",
    "!mkdir {TRAIN_SET_PATH}\n",
    "!mkdir {TEST_SET_PATH}"
   ]
  },
  {
   "cell_type": "markdown",
   "id": "60a1b71d",
   "metadata": {},
   "source": [
    "**Now create a dataset and label all images.**"
   ]
  },
  {
   "cell_type": "markdown",
   "id": "79a39021",
   "metadata": {},
   "source": [
    "#### Randomly selected train and test sets\n",
    "Credit: https://stackoverflow.com/questions/59627352/split-randomly-dataset-which-is-pair-of-images-and-xml-annotation-files-and-move"
   ]
  },
  {
   "cell_type": "code",
   "execution_count": 128,
   "id": "39fe8be3",
   "metadata": {},
   "outputs": [],
   "source": [
    "# Set up ratio\n",
    "ratio = 0.1\n",
    "\n",
    "# Find image names\n",
    "image_files = glob.glob('Tensorflow/workspace/training_demo/images/*.jpg')\n",
    "\n",
    "# Remove file extension\n",
    "image_names = [name.replace(\".jpg\",\"\") for name in image_files]\n",
    "image_names = [name.split('\\\\')[1] for name in image_names]\n",
    "\n",
    "# Use scikit learn to generate lists of training and test sets\n",
    "train_names, test_names = train_test_split(image_names, test_size=ratio)"
   ]
  },
  {
   "cell_type": "code",
   "execution_count": 130,
   "id": "595eb4a7",
   "metadata": {},
   "outputs": [
    {
     "name": "stdout",
     "output_type": "stream",
     "text": [
      "godzilla.14c62979-20ac-11ec-97ab-44af28a42ad0.jpg\n",
      "godzilla.1a5f79be-20aa-11ec-b9d4-44af28a42ad0.jpg\n",
      "godzilla.17f0f0c2-20aa-11ec-8c03-44af28a42ad0.jpg\n",
      "godzilla.192831ab-20aa-11ec-8b3a-44af28a42ad0.jpg\n",
      "godzilla.15fb64af-20ac-11ec-b4d6-44af28a42ad0.jpg\n",
      "godzilla.17330f2d-20ac-11ec-88d7-44af28a42ad0.jpg\n",
      "godzilla.199f6443-20ac-11ec-b76c-44af28a42ad0.jpg\n",
      "godzilla.1ccbb308-20aa-11ec-b876-44af28a42ad0.jpg\n",
      "godzilla.1869db2b-20ac-11ec-ada0-44af28a42ad0.jpg\n",
      "godzilla.1b949e15-20aa-11ec-b835-44af28a42ad0.jpg\n"
     ]
    }
   ],
   "source": [
    "def batch_move_files(file_list, source_path, destination_path):\n",
    "    for file in file_list:\n",
    "        image = file +'.jpg'\n",
    "        xml = file +'.xml'\n",
    "        shutil.move(os.path.join(source_path, image), os.path.join(destination_path, image))\n",
    "        shutil.move(os.path.join(source_path, xml), os.path.join(destination_path, xml))\n",
    "\n",
    "\n",
    "IMAGES_PATH = os.path.join('Tensorflow', 'workspace', training_dataset_name, 'images')\n",
    "\n",
    "batch_move_files(test_names, IMAGES_PATH, TEST_SET_PATH)\n",
    "batch_move_files(train_names, IMAGES_PATH, TRAIN_SET_PATH)"
   ]
  },
  {
   "cell_type": "markdown",
   "id": "942abc90",
   "metadata": {},
   "source": [
    "Please continue with 'Model training' notebook."
   ]
  }
 ],
 "metadata": {
  "kernelspec": {
   "display_name": "Python 3 (ipykernel)",
   "language": "python",
   "name": "python3"
  },
  "language_info": {
   "codemirror_mode": {
    "name": "ipython",
    "version": 3
   },
   "file_extension": ".py",
   "mimetype": "text/x-python",
   "name": "python",
   "nbconvert_exporter": "python",
   "pygments_lexer": "ipython3",
   "version": "3.9.6"
  }
 },
 "nbformat": 4,
 "nbformat_minor": 5
}
