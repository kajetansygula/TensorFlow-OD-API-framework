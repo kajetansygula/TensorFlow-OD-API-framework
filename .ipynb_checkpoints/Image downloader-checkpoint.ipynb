{
 "cells": [
  {
   "cell_type": "code",
   "execution_count": 1,
   "id": "ed77fed5",
   "metadata": {},
   "outputs": [],
   "source": [
    "from simple_image_download import simple_image_download as simp"
   ]
  },
  {
   "cell_type": "code",
   "execution_count": 2,
   "id": "08d37e5f",
   "metadata": {},
   "outputs": [],
   "source": [
    "response = simp.simple_image_download"
   ]
  },
  {
   "cell_type": "code",
   "execution_count": null,
   "id": "df63be56",
   "metadata": {},
   "outputs": [],
   "source": [
    "labels = ['cat', 'dog']\n",
    "number_of_images = 10\n",
    "extensions ={'.jpg', '.jpeg'}"
   ]
  },
  {
   "cell_type": "code",
   "execution_count": null,
   "id": "d486b67e",
   "metadata": {},
   "outputs": [],
   "source": [
    "for label in labels\n",
    "    response().download(label, number_of_images)"
   ]
  }
 ],
 "metadata": {
  "kernelspec": {
   "display_name": "Python 3 (ipykernel)",
   "language": "python",
   "name": "python3"
  },
  "language_info": {
   "codemirror_mode": {
    "name": "ipython",
    "version": 3
   },
   "file_extension": ".py",
   "mimetype": "text/x-python",
   "name": "python",
   "nbconvert_exporter": "python",
   "pygments_lexer": "ipython3",
   "version": "3.9.6"
  }
 },
 "nbformat": 4,
 "nbformat_minor": 5
}
